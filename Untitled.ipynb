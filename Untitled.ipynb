{
 "cells": [
  {
   "cell_type": "code",
   "execution_count": 1,
   "id": "755e7f5c-fbf1-45b7-9183-43b77ba5cd05",
   "metadata": {},
   "outputs": [
    {
     "name": "stdout",
     "output_type": "stream",
     "text": [
      "Requirement already satisfied: tweepy in /home/alan/miniforge3/lib/python3.10/site-packages (4.16.0)\n",
      "Requirement already satisfied: oauthlib<4,>=3.2.0 in /home/alan/miniforge3/lib/python3.10/site-packages (from tweepy) (3.3.1)\n",
      "Requirement already satisfied: requests<3,>=2.27.0 in /home/alan/miniforge3/lib/python3.10/site-packages (from tweepy) (2.31.0)\n",
      "Requirement already satisfied: requests-oauthlib<3,>=1.2.0 in /home/alan/miniforge3/lib/python3.10/site-packages (from tweepy) (2.0.0)\n",
      "Requirement already satisfied: charset-normalizer<4,>=2 in /home/alan/miniforge3/lib/python3.10/site-packages (from requests<3,>=2.27.0->tweepy) (3.3.2)\n",
      "Requirement already satisfied: idna<4,>=2.5 in /home/alan/miniforge3/lib/python3.10/site-packages (from requests<3,>=2.27.0->tweepy) (3.6)\n",
      "Requirement already satisfied: urllib3<3,>=1.21.1 in /home/alan/miniforge3/lib/python3.10/site-packages (from requests<3,>=2.27.0->tweepy) (2.2.1)\n",
      "Requirement already satisfied: certifi>=2017.4.17 in /home/alan/miniforge3/lib/python3.10/site-packages (from requests<3,>=2.27.0->tweepy) (2024.7.4)\n",
      "\n",
      "\u001b[1m[\u001b[0m\u001b[34;49mnotice\u001b[0m\u001b[1;39;49m]\u001b[0m\u001b[39;49m A new release of pip is available: \u001b[0m\u001b[31;49m25.0.1\u001b[0m\u001b[39;49m -> \u001b[0m\u001b[32;49m25.1.1\u001b[0m\n",
      "\u001b[1m[\u001b[0m\u001b[34;49mnotice\u001b[0m\u001b[1;39;49m]\u001b[0m\u001b[39;49m To update, run: \u001b[0m\u001b[32;49mpip install --upgrade pip\u001b[0m\n"
     ]
    }
   ],
   "source": [
    "!pip install tweepy"
   ]
  },
  {
   "cell_type": "code",
   "execution_count": 8,
   "id": "f1c4a5b3-42de-4cce-9a64-1f8af8d9e176",
   "metadata": {},
   "outputs": [],
   "source": [
    "TWITTER_API_KEY=\"VNvaOVTaG4BVTDIOw3z6ZZYc5\"\n",
    "TWITTER_API_SECRET=\"Jp7slfpk8xfNB8lgpdQVkKrplIRLT3sbtrr660eiJQGnZ2VJos\" \n",
    "TWITTER_ACCESS_TOKEN=\"1622583198499721217-IY6e30nIVSahU3rEwU3mArS6an7tjs\"\n",
    "TWITTER_ACCESS_SECRET=\"FR5e3kH6OUgqsMR7SDIw4Y2YjOPhtmf9Rdy8t1vFYO0VX\""
   ]
  },
  {
   "cell_type": "code",
   "execution_count": 9,
   "id": "08d4d2e1-64d1-4334-9110-c219c3cb05f0",
   "metadata": {},
   "outputs": [],
   "source": [
    "import tweepy\n",
    "uth = tweepy.Client(\n",
    "    consumer_key=TWITTER_API_KEY, consumer_secret=TWITTER_API_SECRET, access_token=TWITTER_ACCESS_TOKEN,access_token_secret=TWITTER_ACCESS_SECRET\n",
    ")"
   ]
  },
  {
   "cell_type": "code",
   "execution_count": 10,
   "id": "c0f3f800-13ea-49ea-ae67-54d2474bd3a4",
   "metadata": {},
   "outputs": [],
   "source": [
    "response= uth.create_tweet(text=\"say hello\")"
   ]
  }
 ],
 "metadata": {
  "kernelspec": {
   "display_name": "Python 3 (ipykernel)",
   "language": "python",
   "name": "python3"
  },
  "language_info": {
   "codemirror_mode": {
    "name": "ipython",
    "version": 3
   },
   "file_extension": ".py",
   "mimetype": "text/x-python",
   "name": "python",
   "nbconvert_exporter": "python",
   "pygments_lexer": "ipython3",
   "version": "3.10.14"
  }
 },
 "nbformat": 4,
 "nbformat_minor": 5
}
